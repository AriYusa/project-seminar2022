{
 "nbformat": 4,
 "nbformat_minor": 0,
 "metadata": {
  "colab": {
   "name": "FINAL_DIST_BOOSTING_VAL",
   "provenance": [],
   "collapsed_sections": []
  },
  "kernelspec": {
   "name": "python3",
   "display_name": "Python 3"
  },
  "language_info": {
   "name": "python"
  }
 },
 "cells": [
  {
   "cell_type": "code",
   "source": [
    "import itertools\n",
    "import numpy as np\n",
    "import pandas as pd\n",
    "import lightgbm as lgb\n",
    "from outliers_detection import correct_outliers\n",
    "from models import *"
   ],
   "metadata": {
    "id": "t4Zy1deoBwdm"
   },
   "execution_count": 1,
   "outputs": []
  },
  {
   "cell_type": "code",
   "source": [
    "from typing import Iterable, Dict,List, Tuple"
   ],
   "metadata": {
    "id": "_Z-dCHH1H6Ds"
   },
   "execution_count": 2,
   "outputs": []
  },
  {
   "cell_type": "code",
   "source": [
    "# cчитываем обучающие данные\n",
    "train_sales = pd.read_excel(\"/data/train_sales_dist.xlsx\", parse_dates=True, index_col=\"Period\")"
   ],
   "metadata": {
    "id": "iMQpXgPWB2ll"
   },
   "execution_count": 3,
   "outputs": []
  },
  {
   "cell_type": "code",
   "source": [
    "# запускаем процесс перебора параметов\n",
    "customers = [2, 14, 29, 34, 18]\n",
    "for customer in customers:\n",
    "    results = []\n",
    "    # множество параметров и их значений\n",
    "    grid_configs = {\n",
    "        'tseries': ['orig_series', 'corrected_series'],\n",
    "        'target_columns': ['BPV', 'corrected_BPV', 'corrected_BPV_d'],\n",
    "        'features_configs': itertools.product([True, False], repeat=5),\n",
    "        'objectives': ['mae', 'mse'],\n",
    "        'lags': [range(1, 6), range(1, 9), range(1, 13)]\n",
    "    }\n",
    "\n",
    "    combin = itertools.product(*list(grid_configs.values()))\n",
    "    for i, c in enumerate(combin):\n",
    "        tseries_mode, target_column, (on_weekmean, on_monthmean, on_date, on_monthpart, on_diff), objective, lags = c\n",
    "\n",
    "        # для каждого клиента строим отдельную модель\n",
    "        train = train_sales[train_sales['Customer'] == customer][['BPV']]\n",
    "\n",
    "        if customer in [18, 34]:  # для СНГ предсказания по месяцам\n",
    "            train = train.resample('MS').apply(sum)\n",
    "\n",
    "        if customer in [18, 34]:\n",
    "            window = 12  # год для помесячных (18 и 34 клиенты)\n",
    "            test_size = 9  # 9 месяцев\n",
    "        if customer in [2, 14, 29]:\n",
    "            window = 26  # 6 месяцев для понедельных (2,14,29 клиенты)\n",
    "            test_size = round(52 / 12 * 9)  # 9 месяцев\n",
    "\n",
    "        if customer in [18, 34]:\n",
    "            freq = \"M\"\n",
    "        if customer in [2, 14, 29]:\n",
    "            freq = \"W\"\n",
    "\n",
    "        # попробуем предобработать данные\n",
    "        if tseries_mode == 'corrected_series':\n",
    "            if customer == 2:\n",
    "                # для клиента 2 уменьшить BPV до пандемии чтобы примерно сравнять с объемами продаж после пандемии\n",
    "                train.loc[train.index <= pd.Timestamp(\"2020-02-24\"), 'BPV'] = train.loc[train.index <= pd.Timestamp(\n",
    "                    \"2020-02-24\"), 'BPV'] / 2\n",
    "            elif customer == 29:\n",
    "                # для клиента 29 убрать из обучающей выборки данные за 2019 год\n",
    "                # в связи с заначительно большим объёмом продаж по сравнению с другими периодами\n",
    "                train['BPV_gap'] = train['BPV']\n",
    "                train.loc[train.index < pd.Timestamp(\"2020-01-01\"), 'BPV_gap'] = train['BPV'].shift(52)\n",
    "\n",
    "                train = train[['BPV_gap']].rename({'BPV_gap': 'BPV'}, axis=1)\n",
    "                train = train.dropna()\n",
    "            else:\n",
    "                continue\n",
    "\n",
    "        # откорректируем выбросы\n",
    "        train['corrected_BPV'] = correct_outliers(train['BPV'], window=6, scale=1.96, mode='next')\n",
    "        train['corrected_BPV_d'] = correct_outliers(train['BPV'], window=6, scale=1.96, mode='delete')\n",
    "\n",
    "        if customer in [34, 18]:\n",
    "            on_weekmean, on_monthpart = False, False\n",
    "\n",
    "        calc_features = {\n",
    "            'on_weekmean': on_weekmean,\n",
    "            'on_monthmean': on_monthmean,\n",
    "            'on_date ': on_date,\n",
    "            'on_monthpart': on_monthpart,\n",
    "            'on_diff': on_diff\n",
    "        }\n",
    "\n",
    "        model = lgb.LGBMRegressor(objective=objective, random_state=31)\n",
    "\n",
    "        # запустим валидацию расширяющимся окном\n",
    "        score = extending_window_cv(train, target_column, 'Period', [], model, lags, calc_features, test_size)\n",
    "\n",
    "        results.append(\n",
    "            [customer, tseries_mode, target_column, objective, f'{lags}', on_weekmean, on_monthmean, on_date,\n",
    "             on_monthpart,\n",
    "             on_diff, score])\n",
    "\n",
    "        if i % 50 == 0:\n",
    "            print(f\"{i+1} combinations have been proceeded\")\n",
    "\n",
    "    res_df = pd.DataFrame(results,\n",
    "                          columns=['customer', 'tseries_mode', 'target_column', 'objective', 'lags', 'on_weekmean',\n",
    "                                   'on_monthmean', 'on_date', 'on_monthpart', 'on_diff', 'score'])\n",
    "\n",
    "    res_df = res_df.drop_duplicates()\n",
    "\n",
    "    # сохраняем результаты по каждому клиенту\n",
    "    res_df.to_csv(f'val_grid_boosting_customer_{customer}.csv')"
   ],
   "metadata": {
    "id": "uRXwRRSzBy4u"
   },
   "execution_count": null,
   "outputs": []
  },
  {
   "cell_type": "code",
   "source": [
    "# объединяем результаты по каждому клиенту\n",
    "total_results = []\n",
    "for customer in [2, 14, 29, 18, 34]:\n",
    "    cust_res_df = pd.read_csv(f'val_grid_boosting_customer_{customer}.csv')\n",
    "    total_results.append(cust_res_df)\n",
    "    frame = pd.concat(total_results, axis=0, ignore_index=True)\n",
    "    frame.to_csv(f'val_grid_boosting.csv', index=False)"
   ],
   "metadata": {
    "id": "sHKjDEt_B5U8"
   },
   "execution_count": null,
   "outputs": []
  }
 ]
}