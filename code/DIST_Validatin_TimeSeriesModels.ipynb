{
 "cells": [
  {
   "cell_type": "markdown",
   "metadata": {
    "id": "c451c8b3"
   },
   "source": [
    "## Time series model validation pipeline"
   ],
   "id": "c451c8b3"
  },
  {
   "cell_type": "markdown",
   "metadata": {
    "id": "56d02b2a"
   },
   "source": [
    "#### Загрузим необходимые библиотеки для работы с данными"
   ],
   "id": "56d02b2a"
  },
  {
   "cell_type": "code",
   "execution_count": null,
   "metadata": {
    "id": "0IxV_LMlXpvy"
   },
   "outputs": [],
   "source": [
    "!pip install sktime[all_extras] #запустить ячейку, потом перезапустить блокнот, и уже её не запускать"
   ],
   "id": "0IxV_LMlXpvy"
  },
  {
   "cell_type": "code",
   "execution_count": null,
   "metadata": {
    "id": "rOjFcu_J-ZuR"
   },
   "outputs": [],
   "source": [
    "!pip install tbats"
   ],
   "id": "rOjFcu_J-ZuR"
  },
  {
   "cell_type": "code",
   "execution_count": null,
   "metadata": {
    "id": "uQU2qkYnR_Jp",
    "colab": {
     "base_uri": "https://localhost:8080/"
    },
    "outputId": "bb3a4540-505f-45fb-d1af-3e06121375ee"
   },
   "outputs": [
    {
     "output_type": "stream",
     "name": "stdout",
     "text": [
      "Found existing installation: matplotlib 3.5.2\n",
      "Uninstalling matplotlib-3.5.2:\n",
      "  Successfully uninstalled matplotlib-3.5.2\n",
      "Looking in indexes: https://pypi.org/simple, https://us-python.pkg.dev/colab-wheels/public/simple/\n"
     ]
    }
   ],
   "source": [
    "!pip uninstall matplotlib -y\n",
    "!pip install matplotlib==3.1.3"
   ],
   "id": "uQU2qkYnR_Jp"
  },
  {
   "cell_type": "code",
   "execution_count": 5,
   "metadata": {
    "id": "a9df601b"
   },
   "outputs": [],
   "source": [
    "# Python ≥3.5 is required\n",
    "import sys\n",
    "assert sys.version_info >= (3, 5)\n",
    "\n",
    "# Common imports\n",
    "import numpy as np\n",
    "import pandas as pd\n",
    "import os\n",
    "\n",
    "# to ignore warnings\n",
    "import warnings\n",
    "warnings.filterwarnings(\"ignore\")\n",
    "\n",
    "# to make this notebook's output stable across runs\n",
    "np.random.seed(42)\n",
    "\n",
    "# To plot pretty figures\n",
    "%matplotlib inline\n",
    "import matplotlib.pyplot as plt\n",
    "import seaborn as sns\n",
    "\n",
    "from sklearn.metrics import mean_absolute_error\n",
    "#from sktime.forecasting.model_selection import temporal_train_test_split\n",
    "from sktime.forecasting.base import ForecastingHorizon\n",
    "\n",
    "sns.set()\n",
    "from IPython.lib.display import IFrame"
   ],
   "id": "a9df601b"
  },
  {
   "cell_type": "markdown",
   "metadata": {
    "id": "7f836c29"
   },
   "source": [
    "#### Загрузим необходимые данные для анализа"
   ],
   "id": "7f836c29"
  },
  {
   "cell_type": "code",
   "execution_count": 103,
   "metadata": {
    "id": "4a6f5f07"
   },
   "outputs": [],
   "source": [
    "train_sales = pd.read_excel(\"/data/train_sales_dist.xlsx\",\n",
    "                             parse_dates=True, index_col=\"Period\")"
   ],
   "id": "4a6f5f07"
  },
  {
   "cell_type": "markdown",
   "metadata": {
    "id": "4c8fa2af"
   },
   "source": [
    "## Разведочный анализ данных - факт продаж"
   ],
   "id": "4c8fa2af"
  },
  {
   "cell_type": "markdown",
   "metadata": {
    "id": "b7fa89f5"
   },
   "source": [
    "Перед началом работы отсортируем имеющиеся данные по продажам по столбцу `Period`, чтобы было удобнее смотреть на табличные данные."
   ],
   "id": "b7fa89f5"
  },
  {
   "cell_type": "code",
   "execution_count": 116,
   "metadata": {
    "id": "XSQI81mNaCtP"
   },
   "outputs": [],
   "source": [
    "customer = 2\n",
    "seasonal_period = 5\n",
    "correct_data = False #для 2 и 29"
   ],
   "id": "XSQI81mNaCtP"
  },
  {
   "cell_type": "code",
   "execution_count": 117,
   "metadata": {
    "id": "d23159c1"
   },
   "outputs": [],
   "source": [
    "train_sales = train_sales.sort_index()\n",
    "data = train_sales[train_sales['Customer'] == customer][['BPV']]\n",
    "\n",
    "if customer in [18,34]: #для СНГ предсказания по месяцам\n",
    "  data = data.resample('MS').apply(sum)\n",
    "\n",
    "\n",
    "if customer in [18,34]:\n",
    "  window=12 #год для помесячных (18 и 34 клиенты)\n",
    "  test_size = 9  #9 месяцев\n",
    "if customer in [2,14,29]:\n",
    "  window=26 #6 месяцев для понедельных (2,14,29 клиенты)\n",
    "  test_size = round(52/12*9) #9 месяцев\n",
    "\n",
    "\n",
    "if customer in [18,34]:\n",
    "  freq = \"M\"\n",
    "if customer in [2,14,29]:\n",
    "  freq = \"W\""
   ],
   "id": "d23159c1"
  },
  {
   "cell_type": "code",
   "source": [
    "if correct_data:\n",
    "  if customer == 2:\n",
    "    data.loc[data.index<=pd.Timestamp(\"2020-02-24\"),'BPV'] = data.loc[data.index<=pd.Timestamp(\"2020-02-24\"),'BPV']/2\n",
    "  elif customer == 29:\n",
    "    data['BPV_gap'] = data['BPV'] \n",
    "    data.loc[data.index<pd.Timestamp(\"2020-01-01\"),'BPV_gap'] = data['BPV'].shift(52)\n",
    "\n",
    "    data = data[['BPV_gap']].rename({'BPV_gap':'BPV'}, axis=1)\n",
    "    data = data.dropna()"
   ],
   "metadata": {
    "id": "zgc4Ecuu-Ji9"
   },
   "id": "zgc4Ecuu-Ji9",
   "execution_count": null,
   "outputs": []
  },
  {
   "cell_type": "markdown",
   "metadata": {
    "id": "UIyUvNVahqZ3"
   },
   "source": [
    "### Аномалии"
   ],
   "id": "UIyUvNVahqZ3"
  },
  {
   "cell_type": "code",
   "execution_count": 119,
   "metadata": {
    "id": "7PnaTzxMraNk"
   },
   "outputs": [],
   "source": [
    "from outliers_detection import correct_outliers"
   ],
   "id": "7PnaTzxMraNk"
  },
  {
   "cell_type": "code",
   "execution_count": 121,
   "metadata": {
    "id": "46NQs9Sihwov"
   },
   "outputs": [],
   "source": [
    "data['corrected_BPV'] = correct_outliers(data['BPV'], window=6, scale=1.96, mode = 'next')\n",
    "data['corrected_BPV_d'] = correct_outliers(data['BPV'], window=6, scale=1.96, mode = 'delete')"
   ],
   "id": "46NQs9Sihwov"
  },
  {
   "cell_type": "markdown",
   "metadata": {
    "id": "FpENajrGSk8K"
   },
   "source": [
    "### Econometric"
   ],
   "id": "FpENajrGSk8K"
  },
  {
   "cell_type": "code",
   "source": [
    "from plotting import tsplot"
   ],
   "metadata": {
    "id": "SI4cKfvCW6Cn"
   },
   "id": "SI4cKfvCW6Cn",
   "execution_count": 52,
   "outputs": []
  },
  {
   "cell_type": "code",
   "execution_count": 53,
   "metadata": {
    "colab": {
     "base_uri": "https://localhost:8080/",
     "height": 509
    },
    "id": "9tEIJe9hSuWu",
    "outputId": "065e0c66-340d-4387-c369-8b9666cb3edd"
   },
   "outputs": [
    {
     "output_type": "display_data",
     "data": {
      "text/plain": [
       "<Figure size 864x504 with 3 Axes>"
      ],
      "image/png": "[encoded data removed]"
     },
     "metadata": {}
    }
   ],
   "source": [
    "tsplot(data['BPV'], lags = 24)"
   ],
   "id": "9tEIJe9hSuWu"
  },
  {
   "cell_type": "markdown",
   "metadata": {
    "id": "Wej2i_kgP-jr"
   },
   "source": [
    "### Code plots"
   ],
   "id": "Wej2i_kgP-jr"
  },
  {
   "cell_type": "code",
   "execution_count": 54,
   "metadata": {
    "id": "oaiI8aj5r0l2"
   },
   "outputs": [],
   "source": [
    "from metrics import *\n",
    "from plotting import *"
   ],
   "id": "oaiI8aj5r0l2"
  },
  {
   "cell_type": "code",
   "execution_count": null,
   "metadata": {
    "id": "Xlk8ViV616-L"
   },
   "outputs": [],
   "source": [
    "plotMovingAverage(data['BPV'], window, plot_intervals=True, scale=1.96, plot_anomalies=True)"
   ],
   "id": "Xlk8ViV616-L"
  },
  {
   "cell_type": "markdown",
   "metadata": {
    "id": "8hGJ5RyHWIjl"
   },
   "source": [
    "# Модели"
   ],
   "id": "8hGJ5RyHWIjl"
  },
  {
   "cell_type": "code",
   "execution_count": 70,
   "metadata": {
    "id": "OuSfJwh-nIE8"
   },
   "outputs": [],
   "source": [
    "model_results = []"
   ],
   "id": "OuSfJwh-nIE8"
  },
  {
   "cell_type": "markdown",
   "metadata": {
    "id": "igj0NT31dXeQ"
   },
   "source": [
    "### Наивные"
   ],
   "id": "igj0NT31dXeQ"
  },
  {
   "cell_type": "code",
   "execution_count": 71,
   "metadata": {
    "id": "i2DOgbWHsU3Z"
   },
   "outputs": [],
   "source": [
    "from models import train_test_split"
   ],
   "id": "i2DOgbWHsU3Z"
  },
  {
   "cell_type": "code",
   "execution_count": 72,
   "metadata": {
    "id": "ZggtL-1usZE6"
   },
   "outputs": [],
   "source": [
    "def extending_window_cv_sktime(data, target_column, model, max_test_size: float):\n",
    "  scores = []\n",
    "  print(f\"Максимальный размер тестовой выборки: {max_test_size} наблюдений\")\n",
    "\n",
    "  for n in range(max_test_size,0,-1):\n",
    "    train, test = train_test_split(data[target_column], n)\n",
    "    train.index = pd.PeriodIndex(train.index, freq=freq)\n",
    "    test.index = pd.PeriodIndex(test.index, freq=freq)\n",
    "\n",
    "    fh_test = ForecastingHorizon(test.index, is_relative=False)\n",
    "\n",
    "    model.fit(train)\n",
    "    preds = model.predict(fh_test)\n",
    "\n",
    "    test.index = pd.to_datetime(test.index.strftime('%Y-%m-%d'))\n",
    "    preds.index = pd.to_datetime(preds.index.strftime('%Y-%m-%d'))\n",
    "\n",
    "    score =  wape(*resample_monthly(test, preds))\n",
    "    scores.append(score)\n",
    "\n",
    "  return np.array(scores).mean()"
   ],
   "id": "ZggtL-1usZE6"
  },
  {
   "cell_type": "code",
   "execution_count": 73,
   "metadata": {
    "id": "koqFPDiSRaSb"
   },
   "outputs": [],
   "source": [
    "from sktime.forecasting.naive import NaiveForecaster"
   ],
   "id": "koqFPDiSRaSb"
  },
  {
   "cell_type": "code",
   "execution_count": null,
   "metadata": {
    "id": "4u9v1hNYvTtu"
   },
   "outputs": [],
   "source": [
    "for target_column in ['BPV', 'corrected_BPV', 'corrected_BPV_d']:\n",
    "  model_results.append([\"NaiveForecaster(strategy='last')\",  target_column, extending_window_cv_sktime(data, target_column, NaiveForecaster(strategy='last'), max_test_size=test_size)])\n",
    "  model_results.append([f\"NaiveForecaster(sp={seasonal_period})\",  target_column, extending_window_cv_sktime(data, target_column, NaiveForecaster(sp=seasonal_period), max_test_size=test_size)])"
   ],
   "id": "4u9v1hNYvTtu"
  },
  {
   "cell_type": "markdown",
   "metadata": {
    "id": "qowlHDD_NEyT"
   },
   "source": [
    "### ARIMA"
   ],
   "id": "qowlHDD_NEyT"
  },
  {
   "cell_type": "code",
   "execution_count": 76,
   "metadata": {
    "id": "RWknMDqrNJGk"
   },
   "outputs": [],
   "source": [
    "from sktime.forecasting.arima import ARIMA, AutoARIMA"
   ],
   "id": "RWknMDqrNJGk"
  },
  {
   "cell_type": "code",
   "execution_count": 77,
   "metadata": {
    "id": "G_8G1peaNS0D"
   },
   "outputs": [],
   "source": [
    "forecaster_autoarima = AutoARIMA(start_p=1, d=None, start_q=0, \n",
    "                       max_p=3, max_d=3, max_q=3, \n",
    "                       start_P=1, D=1, start_Q=0, \n",
    "                       max_P=3, max_D=3, max_Q=3, \n",
    "                       sp=seasonal_period, suppress_warnings=True, stepwise=False, n_jobs=-1)"
   ],
   "id": "G_8G1peaNS0D"
  },
  {
   "cell_type": "code",
   "execution_count": null,
   "metadata": {
    "id": "N_FhODXlwn-O"
   },
   "outputs": [],
   "source": [
    "# 42sec per iteration\n",
    "for target_column in ['BPV', 'corrected_BPV', 'corrected_BPV_d']:\n",
    "  model_results.append([f\"AutoARIMA(sp={seasonal_period})\", target_column, extending_window_cv_sktime(data, target_column, forecaster_autoarima, max_test_size=test_size)])"
   ],
   "id": "N_FhODXlwn-O"
  },
  {
   "cell_type": "markdown",
   "metadata": {
    "id": "3sKUQVeTdcyC"
   },
   "source": [
    "### ETS"
   ],
   "id": "3sKUQVeTdcyC"
  },
  {
   "cell_type": "code",
   "execution_count": 80,
   "metadata": {
    "id": "58zIK1cxXbT0"
   },
   "outputs": [],
   "source": [
    "from sktime.forecasting.exp_smoothing import ExponentialSmoothing\n",
    "from sktime.forecasting.ets import AutoETS\n",
    "\n",
    "es_forcaster = ExponentialSmoothing(trend=\"add\", seasonal=\"additive\", sp=seasonal_period)"
   ],
   "id": "58zIK1cxXbT0"
  },
  {
   "cell_type": "code",
   "execution_count": null,
   "metadata": {
    "id": "wBGCO0wQxhIq"
   },
   "outputs": [],
   "source": [
    "for target_column in ['BPV', 'corrected_BPV', 'corrected_BPV_d']:\n",
    "  model_results.append([f'ExponentialSmoothing(sp={seasonal_period})', target_column, extending_window_cv_sktime(data, target_column, es_forcaster, max_test_size=test_size)])\n",
    "  model_results.append([f'AutoETS(sp={seasonal_period})', target_column, extending_window_cv_sktime(data, target_column, AutoETS(auto=True, sp=seasonal_period, n_jobs=-1), max_test_size=test_size)])"
   ],
   "id": "wBGCO0wQxhIq"
  },
  {
   "cell_type": "markdown",
   "metadata": {
    "id": "OOsMuTPF-1cl"
   },
   "source": [
    "### TBATS"
   ],
   "id": "OOsMuTPF-1cl"
  },
  {
   "cell_type": "code",
   "execution_count": 83,
   "metadata": {
    "id": "2zB8CoTH-hzJ"
   },
   "outputs": [],
   "source": [
    "from tbats import TBATS"
   ],
   "id": "2zB8CoTH-hzJ"
  },
  {
   "cell_type": "code",
   "execution_count": 84,
   "metadata": {
    "id": "R-ozYUbf7mmn"
   },
   "outputs": [],
   "source": [
    "def extending_window_cv_tbats(data, target_column, model, max_test_size: float):\n",
    "  scores = []\n",
    "  print(f\"Максимальный размер тестовой выборки: {max_test_size} наблюдений\")\n",
    "\n",
    "  for n in range(max_test_size,0,-1):###-7\n",
    "\n",
    "    train, test = train_test_split(data[target_column], n)\n",
    "    train.index = pd.PeriodIndex(train.index, freq=freq)\n",
    "    test.index = pd.PeriodIndex(test.index, freq=freq)\n",
    "\n",
    "\n",
    "    fitted_model = model.fit(train)\n",
    "    preds = fitted_model.forecast(steps=n)\n",
    "\n",
    "    test.index = pd.to_datetime(test.index.strftime('%Y-%m-%d'))\n",
    "\n",
    "\n",
    "    preds = pd.Series(preds, index=test.index)\n",
    "    preds = preds.resample('MS').apply(sum)\n",
    "    test = test.resample('MS').apply(sum)\n",
    "    score =  wape(test, preds)\n",
    "\n",
    "    scores.append(score)\n",
    "\n",
    "  return np.array(scores).mean()"
   ],
   "id": "R-ozYUbf7mmn"
  },
  {
   "cell_type": "code",
   "execution_count": 85,
   "metadata": {
    "colab": {
     "base_uri": "https://localhost:8080/"
    },
    "id": "cc__no9H1fjA",
    "outputId": "f77f42f1-23f8-4fcb-b7a2-20fe50747644"
   },
   "outputs": [
    {
     "output_type": "stream",
     "name": "stdout",
     "text": [
      "Максимальный размер тестовой выборки: 9 наблюдений\n",
      "Максимальный размер тестовой выборки: 9 наблюдений\n",
      "Максимальный размер тестовой выборки: 9 наблюдений\n"
     ]
    }
   ],
   "source": [
    "for target_column in ['BPV', 'corrected_BPV', 'corrected_BPV_d']:\n",
    "  model_results.append([f'TBATS(seasonal_periods=[4.35, 52.2]', target_column, extending_window_cv_tbats(data, target_column, TBATS(seasonal_periods=[4.35, 52.2]), max_test_size=test_size)])"
   ],
   "id": "cc__no9H1fjA"
  },
  {
   "cell_type": "markdown",
   "metadata": {
    "id": "grzniI529A2b"
   },
   "source": [
    "### Prophet\n"
   ],
   "id": "grzniI529A2b"
  },
  {
   "cell_type": "code",
   "source": [
    "from fbprophet import Prophet"
   ],
   "metadata": {
    "id": "QcypJsPN-yvs"
   },
   "id": "QcypJsPN-yvs",
   "execution_count": null,
   "outputs": []
  },
  {
   "cell_type": "code",
   "execution_count": 122,
   "metadata": {
    "id": "uS_9AkMaBw3m"
   },
   "outputs": [],
   "source": [
    "def make_comparison_dataframe(historical, forecast):\n",
    "    \"\"\"Join the history with the forecast.\n",
    "\n",
    "       The resulting dataset will contain columns 'yhat', 'yhat_lower', 'yhat_upper' and 'y'.\n",
    "    \"\"\"\n",
    "    return forecast.set_index(\"ds\")[[\"yhat\", \"yhat_lower\", \"yhat_upper\"]].join(\n",
    "        historical.set_index(\"ds\"))"
   ],
   "id": "uS_9AkMaBw3m"
  },
  {
   "cell_type": "code",
   "execution_count": 123,
   "metadata": {
    "id": "VeUlxSvEyti5"
   },
   "outputs": [],
   "source": [
    "def extending_window_cv_prophet(data, target_column, max_test_size: float, customer=customer, freq=freq):\n",
    "  scores = []\n",
    "  print(f\"Максимальный размер тестовой выборки: {max_test_size} наблюдений\")\n",
    "\n",
    "  for n in range(max_test_size,0,-1):\n",
    "    df = data[target_column].reset_index()\n",
    "    df.columns = [\"ds\", \"y\"]\n",
    "\n",
    "    train_df = df[:-n]\n",
    "    m = Prophet()\n",
    "    m.fit(train_df)\n",
    "\n",
    "    future = m.make_future_dataframe(periods=n, freq = freq)\n",
    "\n",
    "    if customer in [18,34]:\n",
    "      future= future.set_index(['ds']).resample('MS').agg(sum)\n",
    "      future= future.reset_index()\n",
    "    \n",
    "    forecast = m.predict(future)\n",
    "\n",
    "    df = df.set_index(\"ds\")\n",
    "    df['pred'] = forecast[\"yhat\"].values\n",
    "\n",
    "    score = wape(*resample_monthly(df[-n:]['y'], df[-n:]['pred']))\n",
    "    scores.append(score)\n",
    "\n",
    "  return np.array(scores).mean()"
   ],
   "id": "VeUlxSvEyti5"
  },
  {
   "cell_type": "code",
   "execution_count": null,
   "metadata": {
    "id": "JxS_Ow21APBl"
   },
   "outputs": [],
   "source": [
    "for target_column in ['BPV', 'corrected_BPV', 'corrected_BPV_d']:\n",
    "  model_results.append(['Prophet', target_column, extending_window_cv_prophet(data, target_column, test_size, customer, freq)])"
   ],
   "id": "JxS_Ow21APBl"
  },
  {
   "cell_type": "code",
   "source": [
    "res_df = pd.DataFrame(model_results, columns=['model', 'target_column', 'score'])\n",
    "res_df = res_df.pivot(index='model', columns='target_column', values = 'score')\n",
    "res_df"
   ],
   "metadata": {
    "colab": {
     "base_uri": "https://localhost:8080/",
     "height": 262
    },
    "id": "NwFKbCduyj7i",
    "outputId": "ff16b4f5-6c07-4f38-f0cf-bf1481192633"
   },
   "id": "NwFKbCduyj7i",
   "execution_count": 102,
   "outputs": [
    {
     "output_type": "execute_result",
     "data": {
      "text/plain": [
       "target_column                             BPV  corrected_BPV  corrected_BPV_d\n",
       "model                                                                        \n",
       "AutoARIMA(sp=5)                      0.251067       0.182454         0.245348\n",
       "AutoETS(sp=5)                        0.307035       0.307007         0.310830\n",
       "ExponentialSmoothing(sp=5)           0.213873       0.191934         0.208766\n",
       "NaiveForecaster(sp=5)                0.170180       0.170180         0.170180\n",
       "NaiveForecaster(strategy='last')     0.409086       0.409086         0.409086\n",
       "Prophet                              0.365563       0.388377         0.370002\n",
       "TBATS(seasonal_periods=[4.35, 52.2]  0.341483       0.338320         0.347248"
      ],
      "text/html": [
       "\n",
       "  <div id=\"df-d7fe0d6f-8441-4150-95f5-940b6aba2572\">\n",
       "    <div class=\"colab-df-container\">\n",
       "      <div>\n",
       "<style scoped>\n",
       "    .dataframe tbody tr th:only-of-type {\n",
       "        vertical-align: middle;\n",
       "    }\n",
       "\n",
       "    .dataframe tbody tr th {\n",
       "        vertical-align: top;\n",
       "    }\n",
       "\n",
       "    .dataframe thead th {\n",
       "        text-align: right;\n",
       "    }\n",
       "</style>\n",
       "<table border=\"1\" class=\"dataframe\">\n",
       "  <thead>\n",
       "    <tr style=\"text-align: right;\">\n",
       "      <th>target_column</th>\n",
       "      <th>BPV</th>\n",
       "      <th>corrected_BPV</th>\n",
       "      <th>corrected_BPV_d</th>\n",
       "    </tr>\n",
       "    <tr>\n",
       "      <th>model</th>\n",
       "      <th></th>\n",
       "      <th></th>\n",
       "      <th></th>\n",
       "    </tr>\n",
       "  </thead>\n",
       "  <tbody>\n",
       "    <tr>\n",
       "      <th>AutoARIMA(sp=5)</th>\n",
       "      <td>0.251067</td>\n",
       "      <td>0.182454</td>\n",
       "      <td>0.245348</td>\n",
       "    </tr>\n",
       "    <tr>\n",
       "      <th>AutoETS(sp=5)</th>\n",
       "      <td>0.307035</td>\n",
       "      <td>0.307007</td>\n",
       "      <td>0.310830</td>\n",
       "    </tr>\n",
       "    <tr>\n",
       "      <th>ExponentialSmoothing(sp=5)</th>\n",
       "      <td>0.213873</td>\n",
       "      <td>0.191934</td>\n",
       "      <td>0.208766</td>\n",
       "    </tr>\n",
       "    <tr>\n",
       "      <th>NaiveForecaster(sp=5)</th>\n",
       "      <td>0.170180</td>\n",
       "      <td>0.170180</td>\n",
       "      <td>0.170180</td>\n",
       "    </tr>\n",
       "    <tr>\n",
       "      <th>NaiveForecaster(strategy='last')</th>\n",
       "      <td>0.409086</td>\n",
       "      <td>0.409086</td>\n",
       "      <td>0.409086</td>\n",
       "    </tr>\n",
       "    <tr>\n",
       "      <th>Prophet</th>\n",
       "      <td>0.365563</td>\n",
       "      <td>0.388377</td>\n",
       "      <td>0.370002</td>\n",
       "    </tr>\n",
       "    <tr>\n",
       "      <th>TBATS(seasonal_periods=[4.35, 52.2]</th>\n",
       "      <td>0.341483</td>\n",
       "      <td>0.338320</td>\n",
       "      <td>0.347248</td>\n",
       "    </tr>\n",
       "  </tbody>\n",
       "</table>\n",
       "</div>\n",
       "      <button class=\"colab-df-convert\" onclick=\"convertToInteractive('df-d7fe0d6f-8441-4150-95f5-940b6aba2572')\"\n",
       "              title=\"Convert this dataframe to an interactive table.\"\n",
       "              style=\"display:none;\">\n",
       "        \n",
       "  <svg xmlns=\"http://www.w3.org/2000/svg\" height=\"24px\"viewBox=\"0 0 24 24\"\n",
       "       width=\"24px\">\n",
       "    <path d=\"M0 0h24v24H0V0z\" fill=\"none\"/>\n",
       "    <path d=\"M18.56 5.44l.94 2.06.94-2.06 2.06-.94-2.06-.94-.94-2.06-.94 2.06-2.06.94zm-11 1L8.5 8.5l.94-2.06 2.06-.94-2.06-.94L8.5 2.5l-.94 2.06-2.06.94zm10 10l.94 2.06.94-2.06 2.06-.94-2.06-.94-.94-2.06-.94 2.06-2.06.94z\"/><path d=\"M17.41 7.96l-1.37-1.37c-.4-.4-.92-.59-1.43-.59-.52 0-1.04.2-1.43.59L10.3 9.45l-7.72 7.72c-.78.78-.78 2.05 0 2.83L4 21.41c.39.39.9.59 1.41.59.51 0 1.02-.2 1.41-.59l7.78-7.78 2.81-2.81c.8-.78.8-2.07 0-2.86zM5.41 20L4 18.59l7.72-7.72 1.47 1.35L5.41 20z\"/>\n",
       "  </svg>\n",
       "      </button>\n",
       "      \n",
       "  <style>\n",
       "    .colab-df-container {\n",
       "      display:flex;\n",
       "      flex-wrap:wrap;\n",
       "      gap: 12px;\n",
       "    }\n",
       "\n",
       "    .colab-df-convert {\n",
       "      background-color: #E8F0FE;\n",
       "      border: none;\n",
       "      border-radius: 50%;\n",
       "      cursor: pointer;\n",
       "      display: none;\n",
       "      fill: #1967D2;\n",
       "      height: 32px;\n",
       "      padding: 0 0 0 0;\n",
       "      width: 32px;\n",
       "    }\n",
       "\n",
       "    .colab-df-convert:hover {\n",
       "      background-color: #E2EBFA;\n",
       "      box-shadow: 0px 1px 2px rgba(60, 64, 67, 0.3), 0px 1px 3px 1px rgba(60, 64, 67, 0.15);\n",
       "      fill: #174EA6;\n",
       "    }\n",
       "\n",
       "    [theme=dark] .colab-df-convert {\n",
       "      background-color: #3B4455;\n",
       "      fill: #D2E3FC;\n",
       "    }\n",
       "\n",
       "    [theme=dark] .colab-df-convert:hover {\n",
       "      background-color: #434B5C;\n",
       "      box-shadow: 0px 1px 3px 1px rgba(0, 0, 0, 0.15);\n",
       "      filter: drop-shadow(0px 1px 2px rgba(0, 0, 0, 0.3));\n",
       "      fill: #FFFFFF;\n",
       "    }\n",
       "  </style>\n",
       "\n",
       "      <script>\n",
       "        const buttonEl =\n",
       "          document.querySelector('#df-d7fe0d6f-8441-4150-95f5-940b6aba2572 button.colab-df-convert');\n",
       "        buttonEl.style.display =\n",
       "          google.colab.kernel.accessAllowed ? 'block' : 'none';\n",
       "\n",
       "        async function convertToInteractive(key) {\n",
       "          const element = document.querySelector('#df-d7fe0d6f-8441-4150-95f5-940b6aba2572');\n",
       "          const dataTable =\n",
       "            await google.colab.kernel.invokeFunction('convertToInteractive',\n",
       "                                                     [key], {});\n",
       "          if (!dataTable) return;\n",
       "\n",
       "          const docLinkHtml = 'Like what you see? Visit the ' +\n",
       "            '<a target=\"_blank\" href=https://colab.research.google.com/notebooks/data_table.ipynb>data table notebook</a>'\n",
       "            + ' to learn more about interactive tables.';\n",
       "          element.innerHTML = '';\n",
       "          dataTable['output_type'] = 'display_data';\n",
       "          await google.colab.output.renderOutput(dataTable, element);\n",
       "          const docLink = document.createElement('div');\n",
       "          docLink.innerHTML = docLinkHtml;\n",
       "          element.appendChild(docLink);\n",
       "        }\n",
       "      </script>\n",
       "    </div>\n",
       "  </div>\n",
       "  "
      ]
     },
     "metadata": {},
     "execution_count": 102
    }
   ]
  }
 ],
 "metadata": {
  "colab": {
   "collapsed_sections": [],
   "name": "FINAL_DIST_TS MODELS_VAL.ipynb",
   "provenance": []
  },
  "kernelspec": {
   "display_name": "Python 3 (ipykernel)",
   "language": "python",
   "name": "python3"
  },
  "language_info": {
   "codemirror_mode": {
    "name": "ipython",
    "version": 3
   },
   "file_extension": ".py",
   "mimetype": "text/x-python",
   "name": "python",
   "nbconvert_exporter": "python",
   "pygments_lexer": "ipython3",
   "version": "3.9.7"
  }
 },
 "nbformat": 4,
 "nbformat_minor": 5
}